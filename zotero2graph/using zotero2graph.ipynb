{
 "cells": [
  {
   "cell_type": "markdown",
   "metadata": {},
   "source": [
    "# Using Zotero2Graph"
   ]
  },
  {
   "cell_type": "markdown",
   "metadata": {},
   "source": [
    "This notebook explains the basics about the script of zotero2graph. It has been programmed with the stylometric bibliography curated by Christof Schöch and published here:\n",
    "\n",
    "https://www.zotero.org/groups/643516/stylometry_bibliography\n"
   ]
  },
  {
   "cell_type": "markdown",
   "metadata": {},
   "source": [
    "First we have to import the folder where the script zotero2graph.py is in your computer. Since this notebook and the script are in the same subfolder in my computer, the path is just \"./\". In your case could be \"/home/juancarlos/myprogramms/zotero2graph\""
   ]
  },
  {
   "cell_type": "code",
   "execution_count": 1,
   "metadata": {
    "collapsed": false
   },
   "outputs": [],
   "source": [
    "import sys\n",
    "import os\n",
    "sys.path.append(os.path.abspath(\"./\"))\n"
   ]
  },
  {
   "cell_type": "markdown",
   "metadata": {},
   "source": [
    "Let's now import the script:"
   ]
  },
  {
   "cell_type": "code",
   "execution_count": 2,
   "metadata": {
    "collapsed": false
   },
   "outputs": [],
   "source": [
    "import zotero2graph\n",
    "\n",
    "import pandas as pd\n",
    "import glob\n",
    "from collections import Counter\n",
    "import re\n",
    "import os\n"
   ]
  },
  {
   "cell_type": "markdown",
   "metadata": {},
   "source": [
    "# Functions\n",
    "Now let's try the different functions one by one (if you are not interested in that, only use the script, you can jump to header *Use* on the bottom of this notebook). First we need a folder in our computer that must contain two subfolders: one for the input data and the other one for the output.\n",
    "For the input, we need the CSV file that Zotero creates when we click on the \"Export library\" option, CSV format. It should create a file like \"Stylometry Bibliography.csv\". We place this file in the input subfolder:"
   ]
  },
  {
   "cell_type": "code",
   "execution_count": 3,
   "metadata": {
    "collapsed": false
   },
   "outputs": [
    {
     "name": "stdout",
     "output_type": "stream",
     "text": [
      "./data/Stylometry Bibliography.csv\n"
     ]
    }
   ],
   "source": [
    "wdir = \"./\"\n",
    "data = \"data/\"\n",
    "results = \"results/\"\n",
    "\n",
    "doc = wdir+data+\"Stylometry Bibliography.csv\"\n",
    "file_name = os.path.splitext(os.path.split(doc)[1])[0]\n",
    "print(doc)"
   ]
  },
  {
   "cell_type": "markdown",
   "metadata": {},
   "source": [
    "Now we load this file and print some of he results"
   ]
  },
  {
   "cell_type": "code",
   "execution_count": 4,
   "metadata": {
    "collapsed": false
   },
   "outputs": [
    {
     "name": "stdout",
     "output_type": "stream",
     "text": [
      "[['Arasu, Arvind', ' Cho, Junghoo', ' Garcia-Molina, Hector', ' Paepcke, Andreas', ' Raghavan, Sriram'], ['Green, T. R. G.'], ['Lafon, Pierre'], ['Kim, Yunhyong', ' Ross, Seamus']]\n"
     ]
    }
   ],
   "source": [
    "authors_articles = zotero2graph.load_bibliography(doc)\n",
    "print(authors_articles[1:5])"
   ]
  },
  {
   "cell_type": "markdown",
   "metadata": {},
   "source": [
    "As we see, the bibliography has already become a list of lists. Each sub-list is an  article, and every article contain a string with the name of each author. In this case, we are seeing four different articles: the first with 5 authors (from \"Arasu, Arvind\" to \"Raghavan, Sriram\"), two articles each written by a single author (Green and Lafon) and the last one by two authors (Kim and Ross). After that, we want to clean a bit  the names of the authors and only use the inicial letter of their first name and the surname:"
   ]
  },
  {
   "cell_type": "code",
   "execution_count": 5,
   "metadata": {
    "collapsed": false
   },
   "outputs": [
    {
     "data": {
      "text/plain": [
       "[['Arasu_A', 'Cho_J', 'Garcia-Molina_H', 'Paepcke_A', 'Raghavan_S'],\n",
       " ['Green_T'],\n",
       " ['Lafon_P'],\n",
       " ['Kim_Y', 'Ross_S']]"
      ]
     },
     "execution_count": 5,
     "metadata": {},
     "output_type": "execute_result"
    }
   ],
   "source": [
    "authors_articles = zotero2graph.clean_authors_articles(authors_articles, file_name, wdir, results)\n",
    "authors_articles[1:5]"
   ]
  },
  {
   "cell_type": "markdown",
   "metadata": {},
   "source": [
    "Once we have the names in a nice way, we create the list of the nodes:\n"
   ]
  },
  {
   "cell_type": "code",
   "execution_count": 6,
   "metadata": {
    "collapsed": false
   },
   "outputs": [
    {
     "data": {
      "text/html": [
       "<div>\n",
       "<table border=\"1\" class=\"dataframe\">\n",
       "  <thead>\n",
       "    <tr style=\"text-align: right;\">\n",
       "      <th></th>\n",
       "      <th>Id</th>\n",
       "      <th>Weight</th>\n",
       "      <th>Label</th>\n",
       "    </tr>\n",
       "  </thead>\n",
       "  <tbody>\n",
       "    <tr>\n",
       "      <th>961</th>\n",
       "      <td>Smith_M</td>\n",
       "      <td>35</td>\n",
       "      <td>Smith_M</td>\n",
       "    </tr>\n",
       "    <tr>\n",
       "      <th>1122</th>\n",
       "      <td>Holmes_D</td>\n",
       "      <td>35</td>\n",
       "      <td>Holmes_D</td>\n",
       "    </tr>\n",
       "    <tr>\n",
       "      <th>2083</th>\n",
       "      <td>Craig_H</td>\n",
       "      <td>59</td>\n",
       "      <td>Craig_H</td>\n",
       "    </tr>\n",
       "    <tr>\n",
       "      <th>957</th>\n",
       "      <td>Burrows_J</td>\n",
       "      <td>60</td>\n",
       "      <td>Burrows_J</td>\n",
       "    </tr>\n",
       "    <tr>\n",
       "      <th>540</th>\n",
       "      <td>Juola_P</td>\n",
       "      <td>97</td>\n",
       "      <td>Juola_P</td>\n",
       "    </tr>\n",
       "  </tbody>\n",
       "</table>\n",
       "</div>"
      ],
      "text/plain": [
       "             Id  Weight      Label\n",
       "961     Smith_M      35    Smith_M\n",
       "1122   Holmes_D      35   Holmes_D\n",
       "2083    Craig_H      59    Craig_H\n",
       "957   Burrows_J      60  Burrows_J\n",
       "540     Juola_P      97    Juola_P"
      ]
     },
     "execution_count": 6,
     "metadata": {},
     "output_type": "execute_result"
    }
   ],
   "source": [
    "authors = zotero2graph.create_authors(authors_articles, file_name, wdir, results)\n",
    "authors.iloc[-5:,:]"
   ]
  },
  {
   "cell_type": "markdown",
   "metadata": {},
   "source": [
    "These 5 authors have the biggest amount of written papers in this bibliography. The names of columns are optimized for Gephi.\n",
    "\n",
    "After the nodes, we need something else: edges!"
   ]
  },
  {
   "cell_type": "code",
   "execution_count": 7,
   "metadata": {
    "collapsed": false
   },
   "outputs": [
    {
     "data": {
      "text/html": [
       "<div>\n",
       "<table border=\"1\" class=\"dataframe\">\n",
       "  <thead>\n",
       "    <tr style=\"text-align: right;\">\n",
       "      <th></th>\n",
       "      <th>Source</th>\n",
       "      <th>Target</th>\n",
       "      <th>Weight</th>\n",
       "      <th>Type</th>\n",
       "    </tr>\n",
       "  </thead>\n",
       "  <tbody>\n",
       "    <tr>\n",
       "      <th>3533</th>\n",
       "      <td>Milic_L</td>\n",
       "      <td>Milic_L</td>\n",
       "      <td>15</td>\n",
       "      <td>Undirected</td>\n",
       "    </tr>\n",
       "    <tr>\n",
       "      <th>3225</th>\n",
       "      <td>Foster_D</td>\n",
       "      <td>Foster_D</td>\n",
       "      <td>16</td>\n",
       "      <td>Undirected</td>\n",
       "    </tr>\n",
       "    <tr>\n",
       "      <th>3278</th>\n",
       "      <td>Koppel_M</td>\n",
       "      <td>Schler_J</td>\n",
       "      <td>18</td>\n",
       "      <td>Undirected</td>\n",
       "    </tr>\n",
       "    <tr>\n",
       "      <th>2993</th>\n",
       "      <td>Merriam_T</td>\n",
       "      <td>Merriam_T</td>\n",
       "      <td>20</td>\n",
       "      <td>Undirected</td>\n",
       "    </tr>\n",
       "    <tr>\n",
       "      <th>3651</th>\n",
       "      <td>Hoover_D</td>\n",
       "      <td>Hoover_D</td>\n",
       "      <td>20</td>\n",
       "      <td>Undirected</td>\n",
       "    </tr>\n",
       "    <tr>\n",
       "      <th>442</th>\n",
       "      <td>Rudman_J</td>\n",
       "      <td>Rudman_J</td>\n",
       "      <td>20</td>\n",
       "      <td>Undirected</td>\n",
       "    </tr>\n",
       "    <tr>\n",
       "      <th>3358</th>\n",
       "      <td>Smith_M</td>\n",
       "      <td>Smith_M</td>\n",
       "      <td>30</td>\n",
       "      <td>Undirected</td>\n",
       "    </tr>\n",
       "    <tr>\n",
       "      <th>2422</th>\n",
       "      <td>Craig_H</td>\n",
       "      <td>Craig_H</td>\n",
       "      <td>31</td>\n",
       "      <td>Undirected</td>\n",
       "    </tr>\n",
       "    <tr>\n",
       "      <th>73</th>\n",
       "      <td>Burrows_J</td>\n",
       "      <td>Burrows_J</td>\n",
       "      <td>36</td>\n",
       "      <td>Undirected</td>\n",
       "    </tr>\n",
       "    <tr>\n",
       "      <th>4076</th>\n",
       "      <td>Juola_P</td>\n",
       "      <td>Juola_P</td>\n",
       "      <td>52</td>\n",
       "      <td>Undirected</td>\n",
       "    </tr>\n",
       "  </tbody>\n",
       "</table>\n",
       "</div>"
      ],
      "text/plain": [
       "         Source     Target  Weight        Type\n",
       "3533    Milic_L    Milic_L      15  Undirected\n",
       "3225   Foster_D   Foster_D      16  Undirected\n",
       "3278   Koppel_M   Schler_J      18  Undirected\n",
       "2993  Merriam_T  Merriam_T      20  Undirected\n",
       "3651   Hoover_D   Hoover_D      20  Undirected\n",
       "442    Rudman_J   Rudman_J      20  Undirected\n",
       "3358    Smith_M    Smith_M      30  Undirected\n",
       "2422    Craig_H    Craig_H      31  Undirected\n",
       "73    Burrows_J  Burrows_J      36  Undirected\n",
       "4076    Juola_P    Juola_P      52  Undirected"
      ]
     },
     "execution_count": 7,
     "metadata": {},
     "output_type": "execute_result"
    }
   ],
   "source": [
    "edges = zotero2graph.create_edges(authors_articles, file_name, wdir,results)\n",
    "edges.iloc[-10:,:]"
   ]
  },
  {
   "cell_type": "markdown",
   "metadata": {},
   "source": [
    "What does it mean that Juola_P is the source 52 times and he is also the target of these edges? Well, I decided to mark as a self loop the articles with a single author. That means that Patrik_J wrote 52 articles as a single author in this bibliography. After that, Burrows_J wrote 36 articles. So, actually, the most frequent real co-authorship between two different people is the one between Koppel_M and Schler_J (18 articles as co-authors).\n",
    "\n",
    "Why would you encoded as a self-loop an article with a single author, if we already have the information about the amount of articles published in the nodes? Well, becuase Gephi doesn't allow to use the attributes of the nodes for some functions, like for example to change the size of the nodes (it does for other functions like the color of the node). That is the reason. The script has an attribute to change that and you could also filter the self loops in Gephi."
   ]
  },
  {
   "cell_type": "markdown",
   "metadata": {},
   "source": [
    "And  after that, you are good to open Gephi and load your two files as nodes and edges. \n",
    "\n",
    "Now let's see how to use the script in a single call."
   ]
  },
  {
   "cell_type": "markdown",
   "metadata": {},
   "source": [
    "# Use\n",
    "We can use directly the function *main* and let the program create the two files (nodes and edges). We just have to pass where the data is and where do I want my results:"
   ]
  },
  {
   "cell_type": "code",
   "execution_count": 8,
   "metadata": {
    "collapsed": false
   },
   "outputs": [
    {
     "name": "stdout",
     "output_type": "stream",
     "text": [
      "./data/Stylometry Bibliography.csv\n",
      "done\n"
     ]
    }
   ],
   "source": [
    "zotero2graph.main(\n",
    "    wdir = \"./\",\n",
    "     data = \"data/\",\n",
    "     results = \"results/\"\n",
    "     )    "
   ]
  },
  {
   "cell_type": "markdown",
   "metadata": {},
   "source": [
    "After that, we will have in the \"results\" subfolder two new files:\n",
    "* the one with the nodes (authors): Stylometry Bibliography_authors.csv\n",
    "* the one with the edges (coatuhorsip): Stylometry Bibliography_edges.csv\n",
    "\n",
    "Ready to load in Gephi. Have fun!"
   ]
  }
 ],
 "metadata": {
  "kernelspec": {
   "display_name": "Python 3",
   "language": "python",
   "name": "python3"
  },
  "language_info": {
   "codemirror_mode": {
    "name": "ipython",
    "version": 3
   },
   "file_extension": ".py",
   "mimetype": "text/x-python",
   "name": "python",
   "nbconvert_exporter": "python",
   "pygments_lexer": "ipython3",
   "version": "3.4.3"
  }
 },
 "nbformat": 4,
 "nbformat_minor": 0
}
