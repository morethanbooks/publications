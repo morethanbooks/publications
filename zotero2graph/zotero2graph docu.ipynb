{
 "cells": [
  {
   "cell_type": "markdown",
   "metadata": {},
   "source": [
    "# Zotero2Graph"
   ]
  },
  {
   "cell_type": "markdown",
   "metadata": {},
   "source": [
    "This notebook contains the documentation about this project. This script takes a library from Zotero and creates a graph in which:\n",
    "\n",
    "* the nodes are the authors of the papers or books\n",
    "* the edges represent coauthorship between two books\n",
    "\n",
    "It also tries to get some basic values"
   ]
  },
  {
   "cell_type": "markdown",
   "metadata": {
    "collapsed": true
   },
   "source": [
    "## Use\n",
    "Firsst we import what we need"
   ]
  },
  {
   "cell_type": "code",
   "execution_count": 1,
   "metadata": {
    "collapsed": true
   },
   "outputs": [],
   "source": [
    "import sys\n",
    "import os\n",
    "sys.path.append(os.path.abspath(\"./\"))\n",
    "\n",
    "import zotero2graph\n",
    "\n"
   ]
  },
  {
   "cell_type": "code",
   "execution_count": 2,
   "metadata": {
    "collapsed": false
   },
   "outputs": [
    {
     "name": "stdout",
     "output_type": "stream",
     "text": [
      "./data/Stylometry Bibliography.csv\n",
      "done\n"
     ]
    }
   ],
   "source": [
    "zotero2graph.main(\n",
    "    wdir = \"./\",\n",
    "     data = \"data/\",\n",
    "     results = \"results/\"\n",
    "     )    "
   ]
  }
 ],
 "metadata": {
  "kernelspec": {
   "display_name": "Python 3",
   "language": "python",
   "name": "python3"
  },
  "language_info": {
   "codemirror_mode": {
    "name": "ipython",
    "version": 3
   },
   "file_extension": ".py",
   "mimetype": "text/x-python",
   "name": "python",
   "nbconvert_exporter": "python",
   "pygments_lexer": "ipython3",
   "version": "3.4.3"
  }
 },
 "nbformat": 4,
 "nbformat_minor": 0
}
